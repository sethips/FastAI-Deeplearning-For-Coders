{
  "nbformat": 4,
  "nbformat_minor": 0,
  "metadata": {
    "colab": {
      "name": "FASTAI_SGD.ipynb",
      "version": "0.3.2",
      "provenance": [],
      "include_colab_link": true
    },
    "kernelspec": {
      "name": "python3",
      "display_name": "Python 3"
    }
  },
  "cells": [
    {
      "cell_type": "markdown",
      "metadata": {
        "id": "view-in-github",
        "colab_type": "text"
      },
      "source": [
        "<a href=\"https://colab.research.google.com/github/krshrimali/FastAI-Deeplearning-For-Coders/blob/master/FASTAI_SGD.ipynb\" target=\"_parent\"><img src=\"https://colab.research.google.com/assets/colab-badge.svg\" alt=\"Open In Colab\"/></a>"
      ]
    },
    {
      "metadata": {
        "id": "aajdXA7ipEEi",
        "colab_type": "code",
        "colab": {}
      },
      "cell_type": "code",
      "source": [
        "%matplotlib inline\n",
        "from fastai.basics import *"
      ],
      "execution_count": 0,
      "outputs": []
    },
    {
      "metadata": {
        "id": "iDbOhnYzGcNt",
        "colab_type": "text"
      },
      "cell_type": "markdown",
      "source": [
        "**Optimization method commonly used in NNs : SGD**"
      ]
    },
    {
      "metadata": {
        "id": "IgScdTeypUGT",
        "colab_type": "code",
        "colab": {}
      },
      "cell_type": "code",
      "source": [
        "# Linear Regression Problem\n",
        "n = 100\n",
        "x = torch.ones(n, 2)"
      ],
      "execution_count": 0,
      "outputs": []
    },
    {
      "metadata": {
        "id": "vwRao7VJpb8q",
        "colab_type": "code",
        "outputId": "c14db706-a9dc-4c10-d1f0-93b7972a2f0e",
        "colab": {
          "base_uri": "https://localhost:8080/",
          "height": 36
        }
      },
      "cell_type": "code",
      "source": [
        "print(\"Shape of x: {}, Type: {}\".format(x.shape, type(x)))"
      ],
      "execution_count": 0,
      "outputs": [
        {
          "output_type": "stream",
          "text": [
            "Shape of x: torch.Size([100, 2]), Type: <class 'torch.Tensor'>\n"
          ],
          "name": "stdout"
        }
      ]
    },
    {
      "metadata": {
        "id": "H3pNm-mXpcID",
        "colab_type": "code",
        "outputId": "84e260f0-923a-4d0c-cc1d-31113157bd25",
        "colab": {
          "base_uri": "https://localhost:8080/",
          "height": 112
        }
      },
      "cell_type": "code",
      "source": [
        "print(x[:5])"
      ],
      "execution_count": 0,
      "outputs": [
        {
          "output_type": "stream",
          "text": [
            "tensor([[1., 1.],\n",
            "        [1., 1.],\n",
            "        [1., 1.],\n",
            "        [1., 1.],\n",
            "        [1., 1.]])\n"
          ],
          "name": "stdout"
        }
      ]
    },
    {
      "metadata": {
        "id": "OwpJXaOPppxO",
        "colab_type": "code",
        "outputId": "43cdb38b-5d38-4bb0-e96f-0a55bcde9ee6",
        "colab": {
          "base_uri": "https://localhost:8080/",
          "height": 264
        }
      },
      "cell_type": "code",
      "source": [
        "x[:, 0].uniform_(-1., 1) # it's inplace"
      ],
      "execution_count": 0,
      "outputs": [
        {
          "output_type": "execute_result",
          "data": {
            "text/plain": [
              "tensor([-0.7246, -0.6373, -0.3413,  0.5526, -0.2630,  0.9529,  0.5428, -0.7696,\n",
              "        -0.3096,  0.5639,  0.1766, -0.3254,  0.6054,  0.6329,  0.9896,  0.0104,\n",
              "         0.8568, -0.6651, -0.2029,  0.1229, -0.6752, -0.0061, -0.6732,  0.2752,\n",
              "         0.9729, -0.7633, -0.4974,  0.0880,  0.3271, -0.7444,  0.2102, -0.6416,\n",
              "         0.2358, -0.5351,  0.9136, -0.0229, -0.4078,  0.4429, -0.0775, -0.6269,\n",
              "        -0.8083,  0.8955, -0.8582, -0.9439,  0.3828,  0.8200,  0.9015, -0.6335,\n",
              "         0.5986, -0.6913, -0.3556, -0.7053,  0.2023,  0.5322,  0.5647, -0.0259,\n",
              "         0.8583,  0.4856, -0.1763,  0.7095,  0.2784, -0.4323, -0.9979, -0.7891,\n",
              "         0.0465,  0.2832,  0.2775,  0.5406, -0.8764,  0.1657, -0.2441,  0.5571,\n",
              "         0.4383,  0.2310, -0.1184, -0.0096, -0.6119,  0.8885, -0.3747,  0.3583,\n",
              "        -0.2949, -0.4072,  0.5768, -0.2815,  0.2485,  0.2755, -0.1908, -0.1721,\n",
              "        -0.5063,  0.7520, -0.4047, -0.5204,  0.9518,  0.2617,  0.0287,  0.9834,\n",
              "        -0.6464,  0.3241,  0.5596, -0.9180])"
            ]
          },
          "metadata": {
            "tags": []
          },
          "execution_count": 5
        }
      ]
    },
    {
      "metadata": {
        "id": "xjls24wYp36B",
        "colab_type": "code",
        "outputId": "3834510b-24ef-42ed-b4ef-9c3bc1a6a21f",
        "colab": {
          "base_uri": "https://localhost:8080/",
          "height": 36
        }
      },
      "cell_type": "code",
      "source": [
        "x[:5, 0]"
      ],
      "execution_count": 0,
      "outputs": [
        {
          "output_type": "execute_result",
          "data": {
            "text/plain": [
              "tensor([-0.7246, -0.6373, -0.3413,  0.5526, -0.2630])"
            ]
          },
          "metadata": {
            "tags": []
          },
          "execution_count": 6
        }
      ]
    },
    {
      "metadata": {
        "id": "DIdPLJZWp7Fp",
        "colab_type": "code",
        "outputId": "0059e66e-ad62-421e-afbb-3ee783e0ce5f",
        "colab": {
          "base_uri": "https://localhost:8080/",
          "height": 36
        }
      },
      "cell_type": "code",
      "source": [
        "m = tensor(3., 2); m"
      ],
      "execution_count": 0,
      "outputs": [
        {
          "output_type": "execute_result",
          "data": {
            "text/plain": [
              "tensor([3., 2.])"
            ]
          },
          "metadata": {
            "tags": []
          },
          "execution_count": 7
        }
      ]
    },
    {
      "metadata": {
        "id": "U9Tq4VlIqDbu",
        "colab_type": "code",
        "colab": {}
      },
      "cell_type": "code",
      "source": [
        "y = x@m + torch.randn(n) # y = mx + c type"
      ],
      "execution_count": 0,
      "outputs": []
    },
    {
      "metadata": {
        "id": "wLHEHjh0qKMm",
        "colab_type": "code",
        "outputId": "51cfbc3b-0294-49e1-c48a-2378e12eb0bf",
        "colab": {
          "base_uri": "https://localhost:8080/",
          "height": 36
        }
      },
      "cell_type": "code",
      "source": [
        "y.shape"
      ],
      "execution_count": 0,
      "outputs": [
        {
          "output_type": "execute_result",
          "data": {
            "text/plain": [
              "torch.Size([100])"
            ]
          },
          "metadata": {
            "tags": []
          },
          "execution_count": 9
        }
      ]
    },
    {
      "metadata": {
        "id": "g5OhsLQgqRDj",
        "colab_type": "code",
        "outputId": "d5540691-a426-4339-f728-3af9a293b6a0",
        "colab": {
          "base_uri": "https://localhost:8080/",
          "height": 313
        }
      },
      "cell_type": "code",
      "source": [
        "plt.scatter(x[:, 0], y)\n",
        "plt.xlabel('x[:, 0]')\n",
        "plt.ylabel('y')\n",
        "plt.title(\"Linear Regression: Training Set\")"
      ],
      "execution_count": 0,
      "outputs": [
        {
          "output_type": "execute_result",
          "data": {
            "text/plain": [
              "Text(0.5, 1.0, 'Linear Regression: Training Set')"
            ]
          },
          "metadata": {
            "tags": []
          },
          "execution_count": 10
        },
        {
          "output_type": "display_data",
          "data": {
            "image/png": "[encoded data removed]",
            "text/plain": [
              "<Figure size 432x288 with 1 Axes>"
            ]
          },
          "metadata": {
            "tags": []
          }
        }
      ]
    },
    {
      "metadata": {
        "id": "HJOacENYqsKy",
        "colab_type": "code",
        "colab": {}
      },
      "cell_type": "code",
      "source": [
        "def mse(y_hat, y): \n",
        "  # return mse error\n",
        "  return ((y_hat - y)**2).mean()"
      ],
      "execution_count": 0,
      "outputs": []
    },
    {
      "metadata": {
        "id": "tg6AnLDiq3Pw",
        "colab_type": "code",
        "colab": {}
      },
      "cell_type": "code",
      "source": [
        "# let's say that a = [-1. 1]\n",
        "m = tensor(-1., 1)\n",
        "y_hat = x@m"
      ],
      "execution_count": 0,
      "outputs": []
    },
    {
      "metadata": {
        "id": "9UVkn_MrrXnn",
        "colab_type": "code",
        "outputId": "e040be98-3ecb-4ebc-8107-deba5029fdc8",
        "colab": {
          "base_uri": "https://localhost:8080/",
          "height": 284
        }
      },
      "cell_type": "code",
      "source": [
        "plt.scatter(x[:, 0], y_hat)\n",
        "plt.scatter(x[:, 0], y)"
      ],
      "execution_count": 0,
      "outputs": [
        {
          "output_type": "execute_result",
          "data": {
            "text/plain": [
              "<matplotlib.collections.PathCollection at 0x7ff9aef7a208>"
            ]
          },
          "metadata": {
            "tags": []
          },
          "execution_count": 13
        },
        {
          "output_type": "display_data",
          "data": {
            "image/png": "[encoded data removed]",
            "text/plain": [
              "<Figure size 432x288 with 1 Axes>"
            ]
          },
          "metadata": {
            "tags": []
          }
        }
      ]
    },
    {
      "metadata": {
        "id": "ByIuCS4BrbyP",
        "colab_type": "code",
        "outputId": "51b967b6-6027-45d0-b113-29cf6bfe8879",
        "colab": {
          "base_uri": "https://localhost:8080/",
          "height": 36
        }
      },
      "cell_type": "code",
      "source": [
        "# Gradient Descent\n",
        "m = nn.Parameter(m)\n",
        "m = torch.autograd.Variable(m, requires_grad=True)\n",
        "m"
      ],
      "execution_count": 0,
      "outputs": [
        {
          "output_type": "execute_result",
          "data": {
            "text/plain": [
              "tensor([-1.,  1.], requires_grad=True)"
            ]
          },
          "metadata": {
            "tags": []
          },
          "execution_count": 28
        }
      ]
    },
    {
      "metadata": {
        "id": "umHmlIr4r-Ib",
        "colab_type": "code",
        "colab": {}
      },
      "cell_type": "code",
      "source": [
        "def update(t, lr):\n",
        "  y_hat = x@m\n",
        "  y = x@m + torch.randn(n) # y = mx + c type\n",
        "  print(m)\n",
        "  loss = mse(y, y_hat)\n",
        "  if (t % 10 == 0): print(loss)\n",
        "  loss = torch.autograd.Variable(loss, requires_grad=True)\n",
        "  loss.backward()\n",
        "  with torch.no_grad():\n",
        "    m.sub_(lr * m.retain_grad())\n",
        "    m.grad.zero_()"
      ],
      "execution_count": 0,
      "outputs": []
    },
    {
      "metadata": {
        "id": "XHR5RcL2sMOD",
        "colab_type": "code",
        "outputId": "e1fb33f8-be04-48ae-ee7d-f2345d034303",
        "colab": {
          "base_uri": "https://localhost:8080/",
          "height": 368
        }
      },
      "cell_type": "code",
      "source": [
        "lr = 1e-1\n",
        "for t in range(100):\n",
        "  update(t, lr)"
      ],
      "execution_count": 0,
      "outputs": [
        {
          "output_type": "stream",
          "text": [
            "tensor([-1.,  1.], requires_grad=True)\n",
            "tensor(1.0579, grad_fn=<MeanBackward1>)\n"
          ],
          "name": "stdout"
        },
        {
          "output_type": "error",
          "ename": "TypeError",
          "evalue": "ignored",
          "traceback": [
            "\u001b[0;31m---------------------------------------------------------------------------\u001b[0m",
            "\u001b[0;31mTypeError\u001b[0m                                 Traceback (most recent call last)",
            "\u001b[0;32m<ipython-input-33-7b14f5bc9a7b>\u001b[0m in \u001b[0;36m<module>\u001b[0;34m()\u001b[0m\n\u001b[1;32m      1\u001b[0m \u001b[0mlr\u001b[0m \u001b[0;34m=\u001b[0m \u001b[0;36m1e-1\u001b[0m\u001b[0;34m\u001b[0m\u001b[0;34m\u001b[0m\u001b[0m\n\u001b[1;32m      2\u001b[0m \u001b[0;32mfor\u001b[0m \u001b[0mt\u001b[0m \u001b[0;32min\u001b[0m \u001b[0mrange\u001b[0m\u001b[0;34m(\u001b[0m\u001b[0;36m100\u001b[0m\u001b[0;34m)\u001b[0m\u001b[0;34m:\u001b[0m\u001b[0;34m\u001b[0m\u001b[0;34m\u001b[0m\u001b[0m\n\u001b[0;32m----> 3\u001b[0;31m   \u001b[0mupdate\u001b[0m\u001b[0;34m(\u001b[0m\u001b[0mt\u001b[0m\u001b[0;34m,\u001b[0m \u001b[0mlr\u001b[0m\u001b[0;34m)\u001b[0m\u001b[0;34m\u001b[0m\u001b[0;34m\u001b[0m\u001b[0m\n\u001b[0m",
            "\u001b[0;32m<ipython-input-32-76b2aa33ad88>\u001b[0m in \u001b[0;36mupdate\u001b[0;34m(t, lr)\u001b[0m\n\u001b[1;32m      8\u001b[0m   \u001b[0mloss\u001b[0m\u001b[0;34m.\u001b[0m\u001b[0mbackward\u001b[0m\u001b[0;34m(\u001b[0m\u001b[0;34m)\u001b[0m\u001b[0;34m\u001b[0m\u001b[0;34m\u001b[0m\u001b[0m\n\u001b[1;32m      9\u001b[0m   \u001b[0;32mwith\u001b[0m \u001b[0mtorch\u001b[0m\u001b[0;34m.\u001b[0m\u001b[0mno_grad\u001b[0m\u001b[0;34m(\u001b[0m\u001b[0;34m)\u001b[0m\u001b[0;34m:\u001b[0m\u001b[0;34m\u001b[0m\u001b[0;34m\u001b[0m\u001b[0m\n\u001b[0;32m---> 10\u001b[0;31m     \u001b[0mm\u001b[0m\u001b[0;34m.\u001b[0m\u001b[0msub_\u001b[0m\u001b[0;34m(\u001b[0m\u001b[0mlr\u001b[0m \u001b[0;34m*\u001b[0m \u001b[0mm\u001b[0m\u001b[0;34m.\u001b[0m\u001b[0mretain_grad\u001b[0m\u001b[0;34m(\u001b[0m\u001b[0;34m)\u001b[0m\u001b[0;34m)\u001b[0m\u001b[0;34m\u001b[0m\u001b[0;34m\u001b[0m\u001b[0m\n\u001b[0m\u001b[1;32m     11\u001b[0m     \u001b[0mm\u001b[0m\u001b[0;34m.\u001b[0m\u001b[0mgrad\u001b[0m\u001b[0;34m.\u001b[0m\u001b[0mzero_\u001b[0m\u001b[0;34m(\u001b[0m\u001b[0;34m)\u001b[0m\u001b[0;34m\u001b[0m\u001b[0;34m\u001b[0m\u001b[0m\n",
            "\u001b[0;31mTypeError\u001b[0m: unsupported operand type(s) for *: 'float' and 'NoneType'"
          ]
        }
      ]
    },
    {
      "metadata": {
        "id": "R-nYG5kyssAq",
        "colab_type": "code",
        "colab": {}
      },
      "cell_type": "code",
      "source": [
        ""
      ],
      "execution_count": 0,
      "outputs": []
    }
  ]
}